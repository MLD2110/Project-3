{
 "cells": [
  {
   "cell_type": "code",
   "execution_count": 67,
   "id": "d4cca947",
   "metadata": {},
   "outputs": [],
   "source": [
    "import pandas as pd\n",
    "import matplotlib.pyplot as plt\n",
    "%matplotlib inline"
   ]
  },
  {
   "cell_type": "code",
   "execution_count": 68,
   "id": "b7836012",
   "metadata": {},
   "outputs": [
    {
     "data": {
      "text/html": [
       "<div>\n",
       "<style scoped>\n",
       "    .dataframe tbody tr th:only-of-type {\n",
       "        vertical-align: middle;\n",
       "    }\n",
       "\n",
       "    .dataframe tbody tr th {\n",
       "        vertical-align: top;\n",
       "    }\n",
       "\n",
       "    .dataframe thead th {\n",
       "        text-align: right;\n",
       "    }\n",
       "</style>\n",
       "<table border=\"1\" class=\"dataframe\">\n",
       "  <thead>\n",
       "    <tr style=\"text-align: right;\">\n",
       "      <th></th>\n",
       "      <th>Date</th>\n",
       "      <th>Sales</th>\n",
       "      <th>Dollar Volume</th>\n",
       "      <th>Average Price</th>\n",
       "      <th>Median Price</th>\n",
       "      <th>Total Listings</th>\n",
       "      <th>Months Inventory</th>\n",
       "    </tr>\n",
       "  </thead>\n",
       "  <tbody>\n",
       "    <tr>\n",
       "      <th>0</th>\n",
       "      <td>11-Jan</td>\n",
       "      <td>540</td>\n",
       "      <td>124,876,357</td>\n",
       "      <td>231,253</td>\n",
       "      <td>188,802</td>\n",
       "      <td>4,712</td>\n",
       "      <td>5.5</td>\n",
       "    </tr>\n",
       "    <tr>\n",
       "      <th>1</th>\n",
       "      <td>11-Feb</td>\n",
       "      <td>581</td>\n",
       "      <td>139,385,191</td>\n",
       "      <td>239,906</td>\n",
       "      <td>195,185</td>\n",
       "      <td>4,797</td>\n",
       "      <td>5.6</td>\n",
       "    </tr>\n",
       "    <tr>\n",
       "      <th>2</th>\n",
       "      <td>11-Mar</td>\n",
       "      <td>878</td>\n",
       "      <td>209,365,091</td>\n",
       "      <td>238,457</td>\n",
       "      <td>195,000</td>\n",
       "      <td>4,981</td>\n",
       "      <td>5.9</td>\n",
       "    </tr>\n",
       "    <tr>\n",
       "      <th>3</th>\n",
       "      <td>11-Apr</td>\n",
       "      <td>953</td>\n",
       "      <td>227,389,034</td>\n",
       "      <td>238,603</td>\n",
       "      <td>203,500</td>\n",
       "      <td>5,295</td>\n",
       "      <td>6.5</td>\n",
       "    </tr>\n",
       "    <tr>\n",
       "      <th>4</th>\n",
       "      <td>11-May</td>\n",
       "      <td>937</td>\n",
       "      <td>226,338,215</td>\n",
       "      <td>241,556</td>\n",
       "      <td>195,900</td>\n",
       "      <td>5,264</td>\n",
       "      <td>6.6</td>\n",
       "    </tr>\n",
       "  </tbody>\n",
       "</table>\n",
       "</div>"
      ],
      "text/plain": [
       "     Date Sales Dollar Volume Average Price Median Price Total Listings  \\\n",
       "0  11-Jan   540   124,876,357       231,253      188,802          4,712   \n",
       "1  11-Feb   581   139,385,191       239,906      195,185          4,797   \n",
       "2  11-Mar   878   209,365,091       238,457      195,000          4,981   \n",
       "3  11-Apr   953   227,389,034       238,603      203,500          5,295   \n",
       "4  11-May   937   226,338,215       241,556      195,900          5,264   \n",
       "\n",
       "   Months Inventory  \n",
       "0               5.5  \n",
       "1               5.6  \n",
       "2               5.9  \n",
       "3               6.5  \n",
       "4               6.6  "
      ]
     },
     "execution_count": 68,
     "metadata": {},
     "output_type": "execute_result"
    }
   ],
   "source": [
    "path = '/Users/diopmouhamadoulamine/Desktop/Project-3-main/Data/Collin_County_Housing_2011-2021.csv'\n",
    "df = pd.read_csv(path, parse_dates=['Date'])\n",
    "df.head()"
   ]
  },
  {
   "cell_type": "code",
   "execution_count": 69,
   "id": "db245573",
   "metadata": {},
   "outputs": [
    {
     "name": "stdout",
     "output_type": "stream",
     "text": [
      "<class 'pandas.core.frame.DataFrame'>\n",
      "RangeIndex: 132 entries, 0 to 131\n",
      "Data columns (total 7 columns):\n",
      " #   Column            Non-Null Count  Dtype  \n",
      "---  ------            --------------  -----  \n",
      " 0   Date              132 non-null    object \n",
      " 1   Sales             132 non-null    object \n",
      " 2   Dollar Volume     132 non-null    object \n",
      " 3   Average Price     132 non-null    object \n",
      " 4   Median Price      132 non-null    object \n",
      " 5   Total Listings    132 non-null    object \n",
      " 6   Months Inventory  132 non-null    float64\n",
      "dtypes: float64(1), object(6)\n",
      "memory usage: 7.3+ KB\n"
     ]
    }
   ],
   "source": [
    "df['Average Price'] = df['Average Price'].str.replace(',', '')\n",
    "df.info()"
   ]
  },
  {
   "cell_type": "code",
   "execution_count": 70,
   "id": "e6a4669c",
   "metadata": {},
   "outputs": [
    {
     "name": "stdout",
     "output_type": "stream",
     "text": [
      "<class 'pandas.core.frame.DataFrame'>\n",
      "RangeIndex: 132 entries, 0 to 131\n",
      "Data columns (total 7 columns):\n",
      " #   Column            Non-Null Count  Dtype  \n",
      "---  ------            --------------  -----  \n",
      " 0   Date              132 non-null    object \n",
      " 1   Sales             132 non-null    object \n",
      " 2   Dollar Volume     132 non-null    object \n",
      " 3   Average Price     132 non-null    float64\n",
      " 4   Median Price      132 non-null    object \n",
      " 5   Total Listings    132 non-null    object \n",
      " 6   Months Inventory  132 non-null    float64\n",
      "dtypes: float64(2), object(5)\n",
      "memory usage: 7.3+ KB\n"
     ]
    }
   ],
   "source": [
    "df['Average Price'] = df['Average Price'].astype('float')\n",
    "df.info()"
   ]
  },
  {
   "cell_type": "code",
   "execution_count": 71,
   "id": "065b8d96",
   "metadata": {},
   "outputs": [
    {
     "data": {
      "text/plain": [
       "<AxesSubplot:>"
      ]
     },
     "execution_count": 71,
     "metadata": {},
     "output_type": "execute_result"
    },
    {
     "data": {
      "image/png": "[encoded data removed]",
      "text/plain": [
       "<Figure size 432x288 with 1 Axes>"
      ]
     },
     "metadata": {
      "needs_background": "light"
     },
     "output_type": "display_data"
    }
   ],
   "source": [
    "df['Average Price'].plot()"
   ]
  },
  {
   "cell_type": "code",
   "execution_count": 72,
   "id": "1786d9f9",
   "metadata": {},
   "outputs": [
    {
     "data": {
      "text/html": [
       "<div>\n",
       "<style scoped>\n",
       "    .dataframe tbody tr th:only-of-type {\n",
       "        vertical-align: middle;\n",
       "    }\n",
       "\n",
       "    .dataframe tbody tr th {\n",
       "        vertical-align: top;\n",
       "    }\n",
       "\n",
       "    .dataframe thead th {\n",
       "        text-align: right;\n",
       "    }\n",
       "</style>\n",
       "<table border=\"1\" class=\"dataframe\">\n",
       "  <thead>\n",
       "    <tr style=\"text-align: right;\">\n",
       "      <th></th>\n",
       "      <th>Date</th>\n",
       "      <th>Sales</th>\n",
       "      <th>Dollar Volume</th>\n",
       "      <th>Average Price</th>\n",
       "      <th>Median Price</th>\n",
       "      <th>Total Listings</th>\n",
       "      <th>Months Inventory</th>\n",
       "    </tr>\n",
       "  </thead>\n",
       "  <tbody>\n",
       "    <tr>\n",
       "      <th>0</th>\n",
       "      <td>11-Jan</td>\n",
       "      <td>957</td>\n",
       "      <td>185,458,116</td>\n",
       "      <td>193,791</td>\n",
       "      <td>110,000</td>\n",
       "      <td>NaN</td>\n",
       "      <td>NaN</td>\n",
       "    </tr>\n",
       "    <tr>\n",
       "      <th>1</th>\n",
       "      <td>11-Feb</td>\n",
       "      <td>1,096</td>\n",
       "      <td>237,443,364</td>\n",
       "      <td>216,645</td>\n",
       "      <td>115,500</td>\n",
       "      <td>NaN</td>\n",
       "      <td>NaN</td>\n",
       "    </tr>\n",
       "    <tr>\n",
       "      <th>2</th>\n",
       "      <td>11-Mar</td>\n",
       "      <td>1,617</td>\n",
       "      <td>350,896,253</td>\n",
       "      <td>217,004</td>\n",
       "      <td>115,000</td>\n",
       "      <td>NaN</td>\n",
       "      <td>NaN</td>\n",
       "    </tr>\n",
       "    <tr>\n",
       "      <th>3</th>\n",
       "      <td>11-Apr</td>\n",
       "      <td>1,625</td>\n",
       "      <td>379,341,459</td>\n",
       "      <td>233,441</td>\n",
       "      <td>125,250</td>\n",
       "      <td>NaN</td>\n",
       "      <td>NaN</td>\n",
       "    </tr>\n",
       "    <tr>\n",
       "      <th>4</th>\n",
       "      <td>11-May</td>\n",
       "      <td>1,782</td>\n",
       "      <td>418,942,746</td>\n",
       "      <td>235,097</td>\n",
       "      <td>132,925</td>\n",
       "      <td>NaN</td>\n",
       "      <td>NaN</td>\n",
       "    </tr>\n",
       "  </tbody>\n",
       "</table>\n",
       "</div>"
      ],
      "text/plain": [
       "     Date  Sales Dollar Volume Average Price Median Price Total Listings  \\\n",
       "0  11-Jan    957   185,458,116       193,791      110,000            NaN   \n",
       "1  11-Feb  1,096   237,443,364       216,645      115,500            NaN   \n",
       "2  11-Mar  1,617   350,896,253       217,004      115,000            NaN   \n",
       "3  11-Apr  1,625   379,341,459       233,441      125,250            NaN   \n",
       "4  11-May  1,782   418,942,746       235,097      132,925            NaN   \n",
       "\n",
       "   Months Inventory  \n",
       "0               NaN  \n",
       "1               NaN  \n",
       "2               NaN  \n",
       "3               NaN  \n",
       "4               NaN  "
      ]
     },
     "execution_count": 72,
     "metadata": {},
     "output_type": "execute_result"
    }
   ],
   "source": [
    "path = '/Users/diopmouhamadoulamine/Desktop/Project-3-main/Data/Dallas_County_Housing_2011-2021.csv'\n",
    "df = pd.read_csv(path, parse_dates=['Date'])\n",
    "df.head()"
   ]
  },
  {
   "cell_type": "code",
   "execution_count": 73,
   "id": "08c7e860",
   "metadata": {},
   "outputs": [
    {
     "name": "stdout",
     "output_type": "stream",
     "text": [
      "<class 'pandas.core.frame.DataFrame'>\n",
      "RangeIndex: 132 entries, 0 to 131\n",
      "Data columns (total 7 columns):\n",
      " #   Column            Non-Null Count  Dtype  \n",
      "---  ------            --------------  -----  \n",
      " 0   Date              132 non-null    object \n",
      " 1   Sales             132 non-null    object \n",
      " 2   Dollar Volume     132 non-null    object \n",
      " 3   Average Price     132 non-null    object \n",
      " 4   Median Price      132 non-null    object \n",
      " 5   Total Listings    84 non-null     object \n",
      " 6   Months Inventory  84 non-null     float64\n",
      "dtypes: float64(1), object(6)\n",
      "memory usage: 7.3+ KB\n"
     ]
    }
   ],
   "source": [
    "df['Average Price'] = df['Average Price'].str.replace(',', '')\n",
    "df.info()"
   ]
  },
  {
   "cell_type": "code",
   "execution_count": 74,
   "id": "bffdd8f2",
   "metadata": {},
   "outputs": [
    {
     "name": "stdout",
     "output_type": "stream",
     "text": [
      "<class 'pandas.core.frame.DataFrame'>\n",
      "RangeIndex: 132 entries, 0 to 131\n",
      "Data columns (total 7 columns):\n",
      " #   Column            Non-Null Count  Dtype  \n",
      "---  ------            --------------  -----  \n",
      " 0   Date              132 non-null    object \n",
      " 1   Sales             132 non-null    object \n",
      " 2   Dollar Volume     132 non-null    object \n",
      " 3   Average Price     132 non-null    float64\n",
      " 4   Median Price      132 non-null    object \n",
      " 5   Total Listings    84 non-null     object \n",
      " 6   Months Inventory  84 non-null     float64\n",
      "dtypes: float64(2), object(5)\n",
      "memory usage: 7.3+ KB\n"
     ]
    }
   ],
   "source": [
    "df['Average Price'] = df['Average Price'].astype('float')\n",
    "df.info()"
   ]
  },
  {
   "cell_type": "code",
   "execution_count": 75,
   "id": "3ee5f969",
   "metadata": {},
   "outputs": [
    {
     "data": {
      "text/plain": [
       "<AxesSubplot:>"
      ]
     },
     "execution_count": 75,
     "metadata": {},
     "output_type": "execute_result"
    },
    {
     "data": {
      "image/png": "[encoded data removed]",
      "text/plain": [
       "<Figure size 432x288 with 1 Axes>"
      ]
     },
     "metadata": {
      "needs_background": "light"
     },
     "output_type": "display_data"
    }
   ],
   "source": [
    "df['Average Price'].plot()"
   ]
  },
  {
   "cell_type": "code",
   "execution_count": 76,
   "id": "aa7d688c",
   "metadata": {},
   "outputs": [
    {
     "data": {
      "text/html": [
       "<div>\n",
       "<style scoped>\n",
       "    .dataframe tbody tr th:only-of-type {\n",
       "        vertical-align: middle;\n",
       "    }\n",
       "\n",
       "    .dataframe tbody tr th {\n",
       "        vertical-align: top;\n",
       "    }\n",
       "\n",
       "    .dataframe thead th {\n",
       "        text-align: right;\n",
       "    }\n",
       "</style>\n",
       "<table border=\"1\" class=\"dataframe\">\n",
       "  <thead>\n",
       "    <tr style=\"text-align: right;\">\n",
       "      <th></th>\n",
       "      <th>Date</th>\n",
       "      <th>Sales</th>\n",
       "      <th>Dollar Volume</th>\n",
       "      <th>Average Price</th>\n",
       "      <th>Median Price</th>\n",
       "      <th>Total Listings</th>\n",
       "      <th>Months Inventory</th>\n",
       "    </tr>\n",
       "  </thead>\n",
       "  <tbody>\n",
       "    <tr>\n",
       "      <th>0</th>\n",
       "      <td>Jan-90</td>\n",
       "      <td>1,943</td>\n",
       "      <td>204,559,040</td>\n",
       "      <td>105,280</td>\n",
       "      <td>86,416</td>\n",
       "      <td>31,342</td>\n",
       "      <td>16.1</td>\n",
       "    </tr>\n",
       "    <tr>\n",
       "      <th>1</th>\n",
       "      <td>Feb-90</td>\n",
       "      <td>1,686</td>\n",
       "      <td>180,398,628</td>\n",
       "      <td>106,998</td>\n",
       "      <td>85,477</td>\n",
       "      <td>31,818</td>\n",
       "      <td>17.5</td>\n",
       "    </tr>\n",
       "    <tr>\n",
       "      <th>2</th>\n",
       "      <td>Mar-90</td>\n",
       "      <td>2,625</td>\n",
       "      <td>274,257,375</td>\n",
       "      <td>104,479</td>\n",
       "      <td>84,503</td>\n",
       "      <td>32,670</td>\n",
       "      <td>15.7</td>\n",
       "    </tr>\n",
       "    <tr>\n",
       "      <th>3</th>\n",
       "      <td>Apr-90</td>\n",
       "      <td>2,387</td>\n",
       "      <td>255,268,167</td>\n",
       "      <td>106,941</td>\n",
       "      <td>83,744</td>\n",
       "      <td>33,250</td>\n",
       "      <td>15.4</td>\n",
       "    </tr>\n",
       "    <tr>\n",
       "      <th>4</th>\n",
       "      <td>May-90</td>\n",
       "      <td>2,520</td>\n",
       "      <td>282,232,440</td>\n",
       "      <td>111,997</td>\n",
       "      <td>84,106</td>\n",
       "      <td>33,316</td>\n",
       "      <td>14.9</td>\n",
       "    </tr>\n",
       "  </tbody>\n",
       "</table>\n",
       "</div>"
      ],
      "text/plain": [
       "     Date  Sales Dollar Volume Average Price Median Price Total Listings  \\\n",
       "0  Jan-90  1,943   204,559,040       105,280       86,416         31,342   \n",
       "1  Feb-90  1,686   180,398,628       106,998       85,477         31,818   \n",
       "2  Mar-90  2,625   274,257,375       104,479       84,503         32,670   \n",
       "3  Apr-90  2,387   255,268,167       106,941       83,744         33,250   \n",
       "4  May-90  2,520   282,232,440       111,997       84,106         33,316   \n",
       "\n",
       "   Months Inventory  \n",
       "0              16.1  \n",
       "1              17.5  \n",
       "2              15.7  \n",
       "3              15.4  \n",
       "4              14.9  "
      ]
     },
     "execution_count": 76,
     "metadata": {},
     "output_type": "execute_result"
    }
   ],
   "source": [
    "path = '/Users/diopmouhamadoulamine/Desktop/Project-3-main/Data/Dallas-Fort Worth-Arlington_Housing_2011-2021.csv'\n",
    "df = pd.read_csv(path, parse_dates=['Date'])\n",
    "df.head()"
   ]
  },
  {
   "cell_type": "code",
   "execution_count": 79,
   "id": "76fe7f88",
   "metadata": {},
   "outputs": [
    {
     "name": "stdout",
     "output_type": "stream",
     "text": [
      "<class 'pandas.core.frame.DataFrame'>\n",
      "RangeIndex: 384 entries, 0 to 383\n",
      "Data columns (total 7 columns):\n",
      " #   Column            Non-Null Count  Dtype  \n",
      "---  ------            --------------  -----  \n",
      " 0   Date              384 non-null    object \n",
      " 1   Sales             384 non-null    object \n",
      " 2   Dollar Volume     384 non-null    object \n",
      " 3   Average Price     384 non-null    object \n",
      " 4   Median Price      384 non-null    object \n",
      " 5   Total Listings    384 non-null    object \n",
      " 6   Months Inventory  384 non-null    float64\n",
      "dtypes: float64(1), object(6)\n",
      "memory usage: 21.1+ KB\n"
     ]
    }
   ],
   "source": [
    "df['Average Price'] = df['Average Price'].str.replace(',', '')\n",
    "df.info()"
   ]
  },
  {
   "cell_type": "code",
   "execution_count": 80,
   "id": "8f499724",
   "metadata": {},
   "outputs": [
    {
     "name": "stdout",
     "output_type": "stream",
     "text": [
      "<class 'pandas.core.frame.DataFrame'>\n",
      "RangeIndex: 384 entries, 0 to 383\n",
      "Data columns (total 7 columns):\n",
      " #   Column            Non-Null Count  Dtype  \n",
      "---  ------            --------------  -----  \n",
      " 0   Date              384 non-null    object \n",
      " 1   Sales             384 non-null    object \n",
      " 2   Dollar Volume     384 non-null    object \n",
      " 3   Average Price     384 non-null    float64\n",
      " 4   Median Price      384 non-null    object \n",
      " 5   Total Listings    384 non-null    object \n",
      " 6   Months Inventory  384 non-null    float64\n",
      "dtypes: float64(2), object(5)\n",
      "memory usage: 21.1+ KB\n"
     ]
    }
   ],
   "source": [
    "df['Average Price'] = df['Average Price'].astype('float')\n",
    "df.info()"
   ]
  },
  {
   "cell_type": "code",
   "execution_count": 81,
   "id": "6ef9782a",
   "metadata": {},
   "outputs": [
    {
     "data": {
      "text/plain": [
       "<AxesSubplot:>"
      ]
     },
     "execution_count": 81,
     "metadata": {},
     "output_type": "execute_result"
    },
    {
     "data": {
      "image/png": "[encoded data removed]",
      "text/plain": [
       "<Figure size 432x288 with 1 Axes>"
      ]
     },
     "metadata": {
      "needs_background": "light"
     },
     "output_type": "display_data"
    }
   ],
   "source": [
    "df['Average Price'].plot()"
   ]
  },
  {
   "cell_type": "code",
   "execution_count": 82,
   "id": "0af6e5df",
   "metadata": {},
   "outputs": [
    {
     "data": {
      "text/html": [
       "<div>\n",
       "<style scoped>\n",
       "    .dataframe tbody tr th:only-of-type {\n",
       "        vertical-align: middle;\n",
       "    }\n",
       "\n",
       "    .dataframe tbody tr th {\n",
       "        vertical-align: top;\n",
       "    }\n",
       "\n",
       "    .dataframe thead th {\n",
       "        text-align: right;\n",
       "    }\n",
       "</style>\n",
       "<table border=\"1\" class=\"dataframe\">\n",
       "  <thead>\n",
       "    <tr style=\"text-align: right;\">\n",
       "      <th></th>\n",
       "      <th>Date</th>\n",
       "      <th>Sales</th>\n",
       "      <th>Dollar Volume</th>\n",
       "      <th>Average Price</th>\n",
       "      <th>Median Price</th>\n",
       "      <th>Total Listings</th>\n",
       "      <th>Months Inventory</th>\n",
       "    </tr>\n",
       "  </thead>\n",
       "  <tbody>\n",
       "    <tr>\n",
       "      <th>0</th>\n",
       "      <td>11-Jan</td>\n",
       "      <td>421</td>\n",
       "      <td>89,955,240</td>\n",
       "      <td>213,670</td>\n",
       "      <td>170,500</td>\n",
       "      <td>3,890</td>\n",
       "      <td>5.6</td>\n",
       "    </tr>\n",
       "    <tr>\n",
       "      <th>1</th>\n",
       "      <td>11-Feb</td>\n",
       "      <td>487</td>\n",
       "      <td>110,060,399</td>\n",
       "      <td>225,997</td>\n",
       "      <td>184,500</td>\n",
       "      <td>3,914</td>\n",
       "      <td>5.6</td>\n",
       "    </tr>\n",
       "    <tr>\n",
       "      <th>2</th>\n",
       "      <td>11-Mar</td>\n",
       "      <td>654</td>\n",
       "      <td>144,106,590</td>\n",
       "      <td>220,346</td>\n",
       "      <td>171,225</td>\n",
       "      <td>4,107</td>\n",
       "      <td>6.0</td>\n",
       "    </tr>\n",
       "    <tr>\n",
       "      <th>3</th>\n",
       "      <td>11-Apr</td>\n",
       "      <td>755</td>\n",
       "      <td>164,406,927</td>\n",
       "      <td>217,758</td>\n",
       "      <td>172,250</td>\n",
       "      <td>4,194</td>\n",
       "      <td>6.3</td>\n",
       "    </tr>\n",
       "    <tr>\n",
       "      <th>4</th>\n",
       "      <td>11-May</td>\n",
       "      <td>848</td>\n",
       "      <td>191,092,415</td>\n",
       "      <td>225,345</td>\n",
       "      <td>186,000</td>\n",
       "      <td>4,158</td>\n",
       "      <td>6.4</td>\n",
       "    </tr>\n",
       "  </tbody>\n",
       "</table>\n",
       "</div>"
      ],
      "text/plain": [
       "     Date Sales Dollar Volume Average Price Median Price Total Listings  \\\n",
       "0  11-Jan   421    89,955,240       213,670      170,500          3,890   \n",
       "1  11-Feb   487   110,060,399       225,997      184,500          3,914   \n",
       "2  11-Mar   654   144,106,590       220,346      171,225          4,107   \n",
       "3  11-Apr   755   164,406,927       217,758      172,250          4,194   \n",
       "4  11-May   848   191,092,415       225,345      186,000          4,158   \n",
       "\n",
       "   Months Inventory  \n",
       "0               5.6  \n",
       "1               5.6  \n",
       "2               6.0  \n",
       "3               6.3  \n",
       "4               6.4  "
      ]
     },
     "execution_count": 82,
     "metadata": {},
     "output_type": "execute_result"
    }
   ],
   "source": [
    "path = '/Users/diopmouhamadoulamine/Desktop/Project-3-main/Data/Denton_County_Housing_2011-2021.csv'\n",
    "df = pd.read_csv(path, parse_dates=['Date'])\n",
    "df.head()"
   ]
  },
  {
   "cell_type": "code",
   "execution_count": 84,
   "id": "813685a7",
   "metadata": {},
   "outputs": [
    {
     "name": "stdout",
     "output_type": "stream",
     "text": [
      "<class 'pandas.core.frame.DataFrame'>\n",
      "RangeIndex: 132 entries, 0 to 131\n",
      "Data columns (total 7 columns):\n",
      " #   Column            Non-Null Count  Dtype  \n",
      "---  ------            --------------  -----  \n",
      " 0   Date              132 non-null    object \n",
      " 1   Sales             132 non-null    object \n",
      " 2   Dollar Volume     132 non-null    object \n",
      " 3   Average Price     132 non-null    object \n",
      " 4   Median Price      132 non-null    object \n",
      " 5   Total Listings    132 non-null    object \n",
      " 6   Months Inventory  132 non-null    float64\n",
      "dtypes: float64(1), object(6)\n",
      "memory usage: 7.3+ KB\n"
     ]
    }
   ],
   "source": [
    "df['Average Price'] = df['Average Price'].str.replace(',', '')\n",
    "df.info()"
   ]
  },
  {
   "cell_type": "code",
   "execution_count": 85,
   "id": "d4c27093",
   "metadata": {},
   "outputs": [
    {
     "name": "stdout",
     "output_type": "stream",
     "text": [
      "<class 'pandas.core.frame.DataFrame'>\n",
      "RangeIndex: 132 entries, 0 to 131\n",
      "Data columns (total 7 columns):\n",
      " #   Column            Non-Null Count  Dtype  \n",
      "---  ------            --------------  -----  \n",
      " 0   Date              132 non-null    object \n",
      " 1   Sales             132 non-null    object \n",
      " 2   Dollar Volume     132 non-null    object \n",
      " 3   Average Price     132 non-null    float64\n",
      " 4   Median Price      132 non-null    object \n",
      " 5   Total Listings    132 non-null    object \n",
      " 6   Months Inventory  132 non-null    float64\n",
      "dtypes: float64(2), object(5)\n",
      "memory usage: 7.3+ KB\n"
     ]
    }
   ],
   "source": [
    "df['Average Price'] = df['Average Price'].astype('float')\n",
    "df.info()"
   ]
  },
  {
   "cell_type": "code",
   "execution_count": 86,
   "id": "f88960bc",
   "metadata": {},
   "outputs": [
    {
     "data": {
      "text/plain": [
       "<AxesSubplot:>"
      ]
     },
     "execution_count": 86,
     "metadata": {},
     "output_type": "execute_result"
    },
    {
     "data": {
      "image/png": "[encoded data removed]",
      "text/plain": [
       "<Figure size 432x288 with 1 Axes>"
      ]
     },
     "metadata": {
      "needs_background": "light"
     },
     "output_type": "display_data"
    }
   ],
   "source": [
    "df['Average Price'].plot()"
   ]
  },
  {
   "cell_type": "code",
   "execution_count": 87,
   "id": "f3ce2fac",
   "metadata": {},
   "outputs": [
    {
     "data": {
      "text/html": [
       "<div>\n",
       "<style scoped>\n",
       "    .dataframe tbody tr th:only-of-type {\n",
       "        vertical-align: middle;\n",
       "    }\n",
       "\n",
       "    .dataframe tbody tr th {\n",
       "        vertical-align: top;\n",
       "    }\n",
       "\n",
       "    .dataframe thead th {\n",
       "        text-align: right;\n",
       "    }\n",
       "</style>\n",
       "<table border=\"1\" class=\"dataframe\">\n",
       "  <thead>\n",
       "    <tr style=\"text-align: right;\">\n",
       "      <th></th>\n",
       "      <th>Date</th>\n",
       "      <th>Sales</th>\n",
       "      <th>Dollar Volume</th>\n",
       "      <th>Average Price</th>\n",
       "      <th>Median Price</th>\n",
       "      <th>Total Listings</th>\n",
       "      <th>Months Inventory</th>\n",
       "    </tr>\n",
       "  </thead>\n",
       "  <tbody>\n",
       "    <tr>\n",
       "      <th>0</th>\n",
       "      <td>11-Jan</td>\n",
       "      <td>62</td>\n",
       "      <td>8,246,844</td>\n",
       "      <td>133,014</td>\n",
       "      <td>125,950</td>\n",
       "      <td>NaN</td>\n",
       "      <td>NaN</td>\n",
       "    </tr>\n",
       "    <tr>\n",
       "      <th>1</th>\n",
       "      <td>11-Feb</td>\n",
       "      <td>80</td>\n",
       "      <td>12,569,119</td>\n",
       "      <td>157,114</td>\n",
       "      <td>145,100</td>\n",
       "      <td>NaN</td>\n",
       "      <td>NaN</td>\n",
       "    </tr>\n",
       "    <tr>\n",
       "      <th>2</th>\n",
       "      <td>11-Mar</td>\n",
       "      <td>122</td>\n",
       "      <td>16,648,197</td>\n",
       "      <td>136,461</td>\n",
       "      <td>117,777</td>\n",
       "      <td>NaN</td>\n",
       "      <td>NaN</td>\n",
       "    </tr>\n",
       "    <tr>\n",
       "      <th>3</th>\n",
       "      <td>11-Apr</td>\n",
       "      <td>105</td>\n",
       "      <td>14,474,588</td>\n",
       "      <td>137,853</td>\n",
       "      <td>130,000</td>\n",
       "      <td>NaN</td>\n",
       "      <td>NaN</td>\n",
       "    </tr>\n",
       "    <tr>\n",
       "      <th>4</th>\n",
       "      <td>11-May</td>\n",
       "      <td>133</td>\n",
       "      <td>18,886,825</td>\n",
       "      <td>142,006</td>\n",
       "      <td>134,000</td>\n",
       "      <td>NaN</td>\n",
       "      <td>NaN</td>\n",
       "    </tr>\n",
       "  </tbody>\n",
       "</table>\n",
       "</div>"
      ],
      "text/plain": [
       "     Date  Sales Dollar Volume Average Price Median Price  Total Listings  \\\n",
       "0  11-Jan     62     8,246,844       133,014      125,950             NaN   \n",
       "1  11-Feb     80    12,569,119       157,114      145,100             NaN   \n",
       "2  11-Mar    122    16,648,197       136,461      117,777             NaN   \n",
       "3  11-Apr    105    14,474,588       137,853      130,000             NaN   \n",
       "4  11-May    133    18,886,825       142,006      134,000             NaN   \n",
       "\n",
       "   Months Inventory  \n",
       "0               NaN  \n",
       "1               NaN  \n",
       "2               NaN  \n",
       "3               NaN  \n",
       "4               NaN  "
      ]
     },
     "execution_count": 87,
     "metadata": {},
     "output_type": "execute_result"
    }
   ],
   "source": [
    "path = '/Users/diopmouhamadoulamine/Desktop/Project-3-main/Data/Ellis_County_Housing_2011-2021.csv'\n",
    "df = pd.read_csv(path, parse_dates=['Date'])\n",
    "df.head()"
   ]
  },
  {
   "cell_type": "code",
   "execution_count": 88,
   "id": "6ebef557",
   "metadata": {},
   "outputs": [
    {
     "name": "stdout",
     "output_type": "stream",
     "text": [
      "<class 'pandas.core.frame.DataFrame'>\n",
      "RangeIndex: 132 entries, 0 to 131\n",
      "Data columns (total 7 columns):\n",
      " #   Column            Non-Null Count  Dtype  \n",
      "---  ------            --------------  -----  \n",
      " 0   Date              132 non-null    object \n",
      " 1   Sales             132 non-null    int64  \n",
      " 2   Dollar Volume     132 non-null    object \n",
      " 3   Average Price     132 non-null    object \n",
      " 4   Median Price      132 non-null    object \n",
      " 5   Total Listings    84 non-null     float64\n",
      " 6   Months Inventory  84 non-null     float64\n",
      "dtypes: float64(2), int64(1), object(4)\n",
      "memory usage: 7.3+ KB\n"
     ]
    }
   ],
   "source": [
    "df['Average Price'] = df['Average Price'].str.replace(',', '')\n",
    "df.info()"
   ]
  },
  {
   "cell_type": "code",
   "execution_count": 89,
   "id": "10953759",
   "metadata": {},
   "outputs": [
    {
     "name": "stdout",
     "output_type": "stream",
     "text": [
      "<class 'pandas.core.frame.DataFrame'>\n",
      "RangeIndex: 132 entries, 0 to 131\n",
      "Data columns (total 7 columns):\n",
      " #   Column            Non-Null Count  Dtype  \n",
      "---  ------            --------------  -----  \n",
      " 0   Date              132 non-null    object \n",
      " 1   Sales             132 non-null    int64  \n",
      " 2   Dollar Volume     132 non-null    object \n",
      " 3   Average Price     132 non-null    float64\n",
      " 4   Median Price      132 non-null    object \n",
      " 5   Total Listings    84 non-null     float64\n",
      " 6   Months Inventory  84 non-null     float64\n",
      "dtypes: float64(3), int64(1), object(3)\n",
      "memory usage: 7.3+ KB\n"
     ]
    }
   ],
   "source": [
    "df['Average Price'] = df['Average Price'].astype('float')\n",
    "df.info()"
   ]
  },
  {
   "cell_type": "code",
   "execution_count": 90,
   "id": "6d97f5e5",
   "metadata": {},
   "outputs": [
    {
     "data": {
      "text/plain": [
       "<AxesSubplot:>"
      ]
     },
     "execution_count": 90,
     "metadata": {},
     "output_type": "execute_result"
    },
    {
     "data": {
      "image/png": "[encoded data removed]",
      "text/plain": [
       "<Figure size 432x288 with 1 Axes>"
      ]
     },
     "metadata": {
      "needs_background": "light"
     },
     "output_type": "display_data"
    }
   ],
   "source": [
    "df['Average Price'].plot()"
   ]
  },
  {
   "cell_type": "code",
   "execution_count": 91,
   "id": "0513de71",
   "metadata": {},
   "outputs": [
    {
     "data": {
      "text/html": [
       "<div>\n",
       "<style scoped>\n",
       "    .dataframe tbody tr th:only-of-type {\n",
       "        vertical-align: middle;\n",
       "    }\n",
       "\n",
       "    .dataframe tbody tr th {\n",
       "        vertical-align: top;\n",
       "    }\n",
       "\n",
       "    .dataframe thead th {\n",
       "        text-align: right;\n",
       "    }\n",
       "</style>\n",
       "<table border=\"1\" class=\"dataframe\">\n",
       "  <thead>\n",
       "    <tr style=\"text-align: right;\">\n",
       "      <th></th>\n",
       "      <th>Date</th>\n",
       "      <th>Sales</th>\n",
       "      <th>Dollar Volume</th>\n",
       "      <th>Average Price</th>\n",
       "      <th>Median Price</th>\n",
       "      <th>Total Listings</th>\n",
       "      <th>Months Inventory</th>\n",
       "    </tr>\n",
       "  </thead>\n",
       "  <tbody>\n",
       "    <tr>\n",
       "      <th>0</th>\n",
       "      <td>11-Jan</td>\n",
       "      <td>85</td>\n",
       "      <td>9,730,204</td>\n",
       "      <td>114,473</td>\n",
       "      <td>92,250</td>\n",
       "      <td>NaN</td>\n",
       "      <td>NaN</td>\n",
       "    </tr>\n",
       "    <tr>\n",
       "      <th>1</th>\n",
       "      <td>11-Feb</td>\n",
       "      <td>75</td>\n",
       "      <td>8,220,305</td>\n",
       "      <td>109,604</td>\n",
       "      <td>99,500</td>\n",
       "      <td>NaN</td>\n",
       "      <td>NaN</td>\n",
       "    </tr>\n",
       "    <tr>\n",
       "      <th>2</th>\n",
       "      <td>11-Mar</td>\n",
       "      <td>128</td>\n",
       "      <td>14,959,158</td>\n",
       "      <td>116,868</td>\n",
       "      <td>103,000</td>\n",
       "      <td>NaN</td>\n",
       "      <td>NaN</td>\n",
       "    </tr>\n",
       "    <tr>\n",
       "      <th>3</th>\n",
       "      <td>11-Apr</td>\n",
       "      <td>121</td>\n",
       "      <td>12,288,285</td>\n",
       "      <td>101,556</td>\n",
       "      <td>90,000</td>\n",
       "      <td>NaN</td>\n",
       "      <td>NaN</td>\n",
       "    </tr>\n",
       "    <tr>\n",
       "      <th>4</th>\n",
       "      <td>11-May</td>\n",
       "      <td>115</td>\n",
       "      <td>12,489,836</td>\n",
       "      <td>108,607</td>\n",
       "      <td>108,213</td>\n",
       "      <td>NaN</td>\n",
       "      <td>NaN</td>\n",
       "    </tr>\n",
       "  </tbody>\n",
       "</table>\n",
       "</div>"
      ],
      "text/plain": [
       "     Date  Sales Dollar Volume Average Price Median Price  Total Listings  \\\n",
       "0  11-Jan     85     9,730,204       114,473       92,250             NaN   \n",
       "1  11-Feb     75     8,220,305       109,604       99,500             NaN   \n",
       "2  11-Mar    128    14,959,158       116,868      103,000             NaN   \n",
       "3  11-Apr    121    12,288,285       101,556       90,000             NaN   \n",
       "4  11-May    115    12,489,836       108,607      108,213             NaN   \n",
       "\n",
       "   Months Inventory  \n",
       "0               NaN  \n",
       "1               NaN  \n",
       "2               NaN  \n",
       "3               NaN  \n",
       "4               NaN  "
      ]
     },
     "execution_count": 91,
     "metadata": {},
     "output_type": "execute_result"
    }
   ],
   "source": [
    "path = '/Users/diopmouhamadoulamine/Desktop/Project-3-main/Data/Johnson_County_Housing_2011-2021.csv'\n",
    "df = pd.read_csv(path, parse_dates=['Date'])\n",
    "df.head()"
   ]
  },
  {
   "cell_type": "code",
   "execution_count": 92,
   "id": "57241559",
   "metadata": {},
   "outputs": [
    {
     "name": "stdout",
     "output_type": "stream",
     "text": [
      "<class 'pandas.core.frame.DataFrame'>\n",
      "RangeIndex: 132 entries, 0 to 131\n",
      "Data columns (total 7 columns):\n",
      " #   Column            Non-Null Count  Dtype  \n",
      "---  ------            --------------  -----  \n",
      " 0   Date              132 non-null    object \n",
      " 1   Sales             132 non-null    int64  \n",
      " 2   Dollar Volume     132 non-null    object \n",
      " 3   Average Price     132 non-null    object \n",
      " 4   Median Price      132 non-null    object \n",
      " 5   Total Listings    84 non-null     float64\n",
      " 6   Months Inventory  84 non-null     float64\n",
      "dtypes: float64(2), int64(1), object(4)\n",
      "memory usage: 7.3+ KB\n"
     ]
    }
   ],
   "source": [
    "df['Average Price'] = df['Average Price'].str.replace(',', '')\n",
    "df.info()"
   ]
  },
  {
   "cell_type": "code",
   "execution_count": 93,
   "id": "401bd7b6",
   "metadata": {},
   "outputs": [
    {
     "name": "stdout",
     "output_type": "stream",
     "text": [
      "<class 'pandas.core.frame.DataFrame'>\n",
      "RangeIndex: 132 entries, 0 to 131\n",
      "Data columns (total 7 columns):\n",
      " #   Column            Non-Null Count  Dtype  \n",
      "---  ------            --------------  -----  \n",
      " 0   Date              132 non-null    object \n",
      " 1   Sales             132 non-null    int64  \n",
      " 2   Dollar Volume     132 non-null    object \n",
      " 3   Average Price     132 non-null    float64\n",
      " 4   Median Price      132 non-null    object \n",
      " 5   Total Listings    84 non-null     float64\n",
      " 6   Months Inventory  84 non-null     float64\n",
      "dtypes: float64(3), int64(1), object(3)\n",
      "memory usage: 7.3+ KB\n"
     ]
    }
   ],
   "source": [
    "df['Average Price'] = df['Average Price'].astype('float')\n",
    "df.info()"
   ]
  },
  {
   "cell_type": "code",
   "execution_count": 94,
   "id": "524b4701",
   "metadata": {},
   "outputs": [
    {
     "data": {
      "text/plain": [
       "<AxesSubplot:>"
      ]
     },
     "execution_count": 94,
     "metadata": {},
     "output_type": "execute_result"
    },
    {
     "data": {
      "image/png": "[encoded data removed]",
      "text/plain": [
       "<Figure size 432x288 with 1 Axes>"
      ]
     },
     "metadata": {
      "needs_background": "light"
     },
     "output_type": "display_data"
    }
   ],
   "source": [
    "df['Average Price'].plot()"
   ]
  },
  {
   "cell_type": "code",
   "execution_count": 95,
   "id": "db81e3c0",
   "metadata": {},
   "outputs": [
    {
     "data": {
      "text/html": [
       "<div>\n",
       "<style scoped>\n",
       "    .dataframe tbody tr th:only-of-type {\n",
       "        vertical-align: middle;\n",
       "    }\n",
       "\n",
       "    .dataframe tbody tr th {\n",
       "        vertical-align: top;\n",
       "    }\n",
       "\n",
       "    .dataframe thead th {\n",
       "        text-align: right;\n",
       "    }\n",
       "</style>\n",
       "<table border=\"1\" class=\"dataframe\">\n",
       "  <thead>\n",
       "    <tr style=\"text-align: right;\">\n",
       "      <th></th>\n",
       "      <th>Date</th>\n",
       "      <th>Sales</th>\n",
       "      <th>Dollar Volume</th>\n",
       "      <th>Average Price</th>\n",
       "      <th>Median Price</th>\n",
       "      <th>Total Listings</th>\n",
       "      <th>Months Inventory</th>\n",
       "    </tr>\n",
       "  </thead>\n",
       "  <tbody>\n",
       "    <tr>\n",
       "      <th>0</th>\n",
       "      <td>11-Jan</td>\n",
       "      <td>64</td>\n",
       "      <td>7,578,956</td>\n",
       "      <td>118,421</td>\n",
       "      <td>117,995</td>\n",
       "      <td>NaN</td>\n",
       "      <td>NaN</td>\n",
       "    </tr>\n",
       "    <tr>\n",
       "      <th>1</th>\n",
       "      <td>11-Feb</td>\n",
       "      <td>63</td>\n",
       "      <td>7,672,050</td>\n",
       "      <td>121,779</td>\n",
       "      <td>112,900</td>\n",
       "      <td>NaN</td>\n",
       "      <td>NaN</td>\n",
       "    </tr>\n",
       "    <tr>\n",
       "      <th>2</th>\n",
       "      <td>11-Mar</td>\n",
       "      <td>100</td>\n",
       "      <td>10,263,751</td>\n",
       "      <td>102,638</td>\n",
       "      <td>101,500</td>\n",
       "      <td>NaN</td>\n",
       "      <td>NaN</td>\n",
       "    </tr>\n",
       "    <tr>\n",
       "      <th>3</th>\n",
       "      <td>11-Apr</td>\n",
       "      <td>86</td>\n",
       "      <td>9,613,620</td>\n",
       "      <td>111,786</td>\n",
       "      <td>109,875</td>\n",
       "      <td>NaN</td>\n",
       "      <td>NaN</td>\n",
       "    </tr>\n",
       "    <tr>\n",
       "      <th>4</th>\n",
       "      <td>11-May</td>\n",
       "      <td>107</td>\n",
       "      <td>14,469,278</td>\n",
       "      <td>135,227</td>\n",
       "      <td>137,000</td>\n",
       "      <td>NaN</td>\n",
       "      <td>NaN</td>\n",
       "    </tr>\n",
       "  </tbody>\n",
       "</table>\n",
       "</div>"
      ],
      "text/plain": [
       "     Date  Sales Dollar Volume Average Price Median Price  Total Listings  \\\n",
       "0  11-Jan     64     7,578,956       118,421      117,995             NaN   \n",
       "1  11-Feb     63     7,672,050       121,779      112,900             NaN   \n",
       "2  11-Mar    100    10,263,751       102,638      101,500             NaN   \n",
       "3  11-Apr     86     9,613,620       111,786      109,875             NaN   \n",
       "4  11-May    107    14,469,278       135,227      137,000             NaN   \n",
       "\n",
       "   Months Inventory  \n",
       "0               NaN  \n",
       "1               NaN  \n",
       "2               NaN  \n",
       "3               NaN  \n",
       "4               NaN  "
      ]
     },
     "execution_count": 95,
     "metadata": {},
     "output_type": "execute_result"
    }
   ],
   "source": [
    "path = '/Users/diopmouhamadoulamine/Desktop/Project-3-main/Data/Kaufman_County_Housing_2011-2021.csv'\n",
    "df = pd.read_csv(path, parse_dates=['Date'])\n",
    "df.head()"
   ]
  },
  {
   "cell_type": "code",
   "execution_count": 96,
   "id": "766c0ea3",
   "metadata": {},
   "outputs": [
    {
     "name": "stdout",
     "output_type": "stream",
     "text": [
      "<class 'pandas.core.frame.DataFrame'>\n",
      "RangeIndex: 132 entries, 0 to 131\n",
      "Data columns (total 7 columns):\n",
      " #   Column            Non-Null Count  Dtype  \n",
      "---  ------            --------------  -----  \n",
      " 0   Date              132 non-null    object \n",
      " 1   Sales             132 non-null    int64  \n",
      " 2   Dollar Volume     132 non-null    object \n",
      " 3   Average Price     132 non-null    object \n",
      " 4   Median Price      132 non-null    object \n",
      " 5   Total Listings    84 non-null     float64\n",
      " 6   Months Inventory  84 non-null     float64\n",
      "dtypes: float64(2), int64(1), object(4)\n",
      "memory usage: 7.3+ KB\n"
     ]
    }
   ],
   "source": [
    "df['Average Price'] = df['Average Price'].str.replace(',', '')\n",
    "df.info()"
   ]
  },
  {
   "cell_type": "code",
   "execution_count": 97,
   "id": "190c4a7f",
   "metadata": {},
   "outputs": [
    {
     "name": "stdout",
     "output_type": "stream",
     "text": [
      "<class 'pandas.core.frame.DataFrame'>\n",
      "RangeIndex: 132 entries, 0 to 131\n",
      "Data columns (total 7 columns):\n",
      " #   Column            Non-Null Count  Dtype  \n",
      "---  ------            --------------  -----  \n",
      " 0   Date              132 non-null    object \n",
      " 1   Sales             132 non-null    int64  \n",
      " 2   Dollar Volume     132 non-null    object \n",
      " 3   Average Price     132 non-null    float64\n",
      " 4   Median Price      132 non-null    object \n",
      " 5   Total Listings    84 non-null     float64\n",
      " 6   Months Inventory  84 non-null     float64\n",
      "dtypes: float64(3), int64(1), object(3)\n",
      "memory usage: 7.3+ KB\n"
     ]
    }
   ],
   "source": [
    "df['Average Price'] = df['Average Price'].astype('float')\n",
    "df.info()"
   ]
  },
  {
   "cell_type": "code",
   "execution_count": 98,
   "id": "4f9c6fb6",
   "metadata": {},
   "outputs": [
    {
     "data": {
      "text/plain": [
       "<AxesSubplot:>"
      ]
     },
     "execution_count": 98,
     "metadata": {},
     "output_type": "execute_result"
    },
    {
     "data": {
      "image/png": "[encoded data removed]",
      "text/plain": [
       "<Figure size 432x288 with 1 Axes>"
      ]
     },
     "metadata": {
      "needs_background": "light"
     },
     "output_type": "display_data"
    }
   ],
   "source": [
    "df['Average Price'].plot()"
   ]
  },
  {
   "cell_type": "code",
   "execution_count": 99,
   "id": "3e401839",
   "metadata": {},
   "outputs": [
    {
     "data": {
      "text/html": [
       "<div>\n",
       "<style scoped>\n",
       "    .dataframe tbody tr th:only-of-type {\n",
       "        vertical-align: middle;\n",
       "    }\n",
       "\n",
       "    .dataframe tbody tr th {\n",
       "        vertical-align: top;\n",
       "    }\n",
       "\n",
       "    .dataframe thead th {\n",
       "        text-align: right;\n",
       "    }\n",
       "</style>\n",
       "<table border=\"1\" class=\"dataframe\">\n",
       "  <thead>\n",
       "    <tr style=\"text-align: right;\">\n",
       "      <th></th>\n",
       "      <th>Date</th>\n",
       "      <th>Sales</th>\n",
       "      <th>Dollar Volume</th>\n",
       "      <th>Average Price</th>\n",
       "      <th>Median Price</th>\n",
       "      <th>Total Listings</th>\n",
       "      <th>Months Inventory</th>\n",
       "    </tr>\n",
       "  </thead>\n",
       "  <tbody>\n",
       "    <tr>\n",
       "      <th>0</th>\n",
       "      <td>11-Jan</td>\n",
       "      <td>55</td>\n",
       "      <td>8,167,590</td>\n",
       "      <td>148,502</td>\n",
       "      <td>140,000</td>\n",
       "      <td>NaN</td>\n",
       "      <td>NaN</td>\n",
       "    </tr>\n",
       "    <tr>\n",
       "      <th>1</th>\n",
       "      <td>11-Feb</td>\n",
       "      <td>83</td>\n",
       "      <td>14,470,268</td>\n",
       "      <td>174,341</td>\n",
       "      <td>169,000</td>\n",
       "      <td>NaN</td>\n",
       "      <td>NaN</td>\n",
       "    </tr>\n",
       "    <tr>\n",
       "      <th>2</th>\n",
       "      <td>11-Mar</td>\n",
       "      <td>121</td>\n",
       "      <td>19,872,100</td>\n",
       "      <td>164,232</td>\n",
       "      <td>145,000</td>\n",
       "      <td>NaN</td>\n",
       "      <td>NaN</td>\n",
       "    </tr>\n",
       "    <tr>\n",
       "      <th>3</th>\n",
       "      <td>11-Apr</td>\n",
       "      <td>123</td>\n",
       "      <td>20,553,584</td>\n",
       "      <td>167,102</td>\n",
       "      <td>150,005</td>\n",
       "      <td>NaN</td>\n",
       "      <td>NaN</td>\n",
       "    </tr>\n",
       "    <tr>\n",
       "      <th>4</th>\n",
       "      <td>11-May</td>\n",
       "      <td>117</td>\n",
       "      <td>21,519,969</td>\n",
       "      <td>183,931</td>\n",
       "      <td>151,301</td>\n",
       "      <td>NaN</td>\n",
       "      <td>NaN</td>\n",
       "    </tr>\n",
       "  </tbody>\n",
       "</table>\n",
       "</div>"
      ],
      "text/plain": [
       "     Date  Sales Dollar Volume Average Price Median Price  Total Listings  \\\n",
       "0  11-Jan     55     8,167,590       148,502      140,000             NaN   \n",
       "1  11-Feb     83    14,470,268       174,341      169,000             NaN   \n",
       "2  11-Mar    121    19,872,100       164,232      145,000             NaN   \n",
       "3  11-Apr    123    20,553,584       167,102      150,005             NaN   \n",
       "4  11-May    117    21,519,969       183,931      151,301             NaN   \n",
       "\n",
       "   Months Inventory  \n",
       "0               NaN  \n",
       "1               NaN  \n",
       "2               NaN  \n",
       "3               NaN  \n",
       "4               NaN  "
      ]
     },
     "execution_count": 99,
     "metadata": {},
     "output_type": "execute_result"
    }
   ],
   "source": [
    "path = '/Users/diopmouhamadoulamine/Desktop/Project-3-main/Data/Parker_County_Housing_2011-2021.csv'\n",
    "df = pd.read_csv(path, parse_dates=['Date'])\n",
    "df.head()"
   ]
  },
  {
   "cell_type": "code",
   "execution_count": 100,
   "id": "26c9fbd3",
   "metadata": {},
   "outputs": [
    {
     "name": "stdout",
     "output_type": "stream",
     "text": [
      "<class 'pandas.core.frame.DataFrame'>\n",
      "RangeIndex: 132 entries, 0 to 131\n",
      "Data columns (total 7 columns):\n",
      " #   Column            Non-Null Count  Dtype  \n",
      "---  ------            --------------  -----  \n",
      " 0   Date              132 non-null    object \n",
      " 1   Sales             132 non-null    int64  \n",
      " 2   Dollar Volume     132 non-null    object \n",
      " 3   Average Price     132 non-null    object \n",
      " 4   Median Price      132 non-null    object \n",
      " 5   Total Listings    84 non-null     float64\n",
      " 6   Months Inventory  84 non-null     float64\n",
      "dtypes: float64(2), int64(1), object(4)\n",
      "memory usage: 7.3+ KB\n"
     ]
    }
   ],
   "source": [
    "df['Average Price'] = df['Average Price'].str.replace(',', '')\n",
    "df.info()"
   ]
  },
  {
   "cell_type": "code",
   "execution_count": 101,
   "id": "81f58853",
   "metadata": {},
   "outputs": [
    {
     "name": "stdout",
     "output_type": "stream",
     "text": [
      "<class 'pandas.core.frame.DataFrame'>\n",
      "RangeIndex: 132 entries, 0 to 131\n",
      "Data columns (total 7 columns):\n",
      " #   Column            Non-Null Count  Dtype  \n",
      "---  ------            --------------  -----  \n",
      " 0   Date              132 non-null    object \n",
      " 1   Sales             132 non-null    int64  \n",
      " 2   Dollar Volume     132 non-null    object \n",
      " 3   Average Price     132 non-null    float64\n",
      " 4   Median Price      132 non-null    object \n",
      " 5   Total Listings    84 non-null     float64\n",
      " 6   Months Inventory  84 non-null     float64\n",
      "dtypes: float64(3), int64(1), object(3)\n",
      "memory usage: 7.3+ KB\n"
     ]
    }
   ],
   "source": [
    "df['Average Price'] = df['Average Price'].astype('float')\n",
    "df.info()"
   ]
  },
  {
   "cell_type": "code",
   "execution_count": 102,
   "id": "36875352",
   "metadata": {},
   "outputs": [
    {
     "data": {
      "text/plain": [
       "<AxesSubplot:>"
      ]
     },
     "execution_count": 102,
     "metadata": {},
     "output_type": "execute_result"
    },
    {
     "data": {
      "image/png": "[encoded data removed]",
      "text/plain": [
       "<Figure size 432x288 with 1 Axes>"
      ]
     },
     "metadata": {
      "needs_background": "light"
     },
     "output_type": "display_data"
    }
   ],
   "source": [
    "df['Average Price'].plot()"
   ]
  },
  {
   "cell_type": "code",
   "execution_count": 103,
   "id": "d83bd833",
   "metadata": {},
   "outputs": [
    {
     "data": {
      "text/html": [
       "<div>\n",
       "<style scoped>\n",
       "    .dataframe tbody tr th:only-of-type {\n",
       "        vertical-align: middle;\n",
       "    }\n",
       "\n",
       "    .dataframe tbody tr th {\n",
       "        vertical-align: top;\n",
       "    }\n",
       "\n",
       "    .dataframe thead th {\n",
       "        text-align: right;\n",
       "    }\n",
       "</style>\n",
       "<table border=\"1\" class=\"dataframe\">\n",
       "  <thead>\n",
       "    <tr style=\"text-align: right;\">\n",
       "      <th></th>\n",
       "      <th>Date</th>\n",
       "      <th>Sales</th>\n",
       "      <th>Dollar Volume</th>\n",
       "      <th>Average Price</th>\n",
       "      <th>Median Price</th>\n",
       "      <th>Total Listings</th>\n",
       "      <th>Months Inventory</th>\n",
       "    </tr>\n",
       "  </thead>\n",
       "  <tbody>\n",
       "    <tr>\n",
       "      <th>0</th>\n",
       "      <td>11-Jan</td>\n",
       "      <td>60</td>\n",
       "      <td>15,113,514</td>\n",
       "      <td>251,892</td>\n",
       "      <td>182,500</td>\n",
       "      <td>NaN</td>\n",
       "      <td>NaN</td>\n",
       "    </tr>\n",
       "    <tr>\n",
       "      <th>1</th>\n",
       "      <td>11-Feb</td>\n",
       "      <td>72</td>\n",
       "      <td>16,569,848</td>\n",
       "      <td>230,137</td>\n",
       "      <td>178,400</td>\n",
       "      <td>NaN</td>\n",
       "      <td>NaN</td>\n",
       "    </tr>\n",
       "    <tr>\n",
       "      <th>2</th>\n",
       "      <td>11-Mar</td>\n",
       "      <td>103</td>\n",
       "      <td>21,430,586</td>\n",
       "      <td>208,064</td>\n",
       "      <td>174,500</td>\n",
       "      <td>NaN</td>\n",
       "      <td>NaN</td>\n",
       "    </tr>\n",
       "    <tr>\n",
       "      <th>3</th>\n",
       "      <td>11-Apr</td>\n",
       "      <td>97</td>\n",
       "      <td>19,082,043</td>\n",
       "      <td>196,722</td>\n",
       "      <td>166,240</td>\n",
       "      <td>NaN</td>\n",
       "      <td>NaN</td>\n",
       "    </tr>\n",
       "    <tr>\n",
       "      <th>4</th>\n",
       "      <td>11-May</td>\n",
       "      <td>111</td>\n",
       "      <td>23,601,841</td>\n",
       "      <td>212,629</td>\n",
       "      <td>185,900</td>\n",
       "      <td>NaN</td>\n",
       "      <td>NaN</td>\n",
       "    </tr>\n",
       "  </tbody>\n",
       "</table>\n",
       "</div>"
      ],
      "text/plain": [
       "     Date  Sales Dollar Volume Average Price Median Price  Total Listings  \\\n",
       "0  11-Jan     60    15,113,514       251,892      182,500             NaN   \n",
       "1  11-Feb     72    16,569,848       230,137      178,400             NaN   \n",
       "2  11-Mar    103    21,430,586       208,064      174,500             NaN   \n",
       "3  11-Apr     97    19,082,043       196,722      166,240             NaN   \n",
       "4  11-May    111    23,601,841       212,629      185,900             NaN   \n",
       "\n",
       "   Months Inventory  \n",
       "0               NaN  \n",
       "1               NaN  \n",
       "2               NaN  \n",
       "3               NaN  \n",
       "4               NaN  "
      ]
     },
     "execution_count": 103,
     "metadata": {},
     "output_type": "execute_result"
    }
   ],
   "source": [
    "path = '/Users/diopmouhamadoulamine/Desktop/Project-3-main/Data/Rockwall_County_Housing_2011-2021.csv'\n",
    "df = pd.read_csv(path, parse_dates=['Date'])\n",
    "df.head()"
   ]
  },
  {
   "cell_type": "code",
   "execution_count": 104,
   "id": "6d9009e7",
   "metadata": {},
   "outputs": [
    {
     "name": "stdout",
     "output_type": "stream",
     "text": [
      "<class 'pandas.core.frame.DataFrame'>\n",
      "RangeIndex: 132 entries, 0 to 131\n",
      "Data columns (total 7 columns):\n",
      " #   Column            Non-Null Count  Dtype  \n",
      "---  ------            --------------  -----  \n",
      " 0   Date              132 non-null    object \n",
      " 1   Sales             132 non-null    int64  \n",
      " 2   Dollar Volume     132 non-null    object \n",
      " 3   Average Price     132 non-null    object \n",
      " 4   Median Price      132 non-null    object \n",
      " 5   Total Listings    84 non-null     float64\n",
      " 6   Months Inventory  84 non-null     float64\n",
      "dtypes: float64(2), int64(1), object(4)\n",
      "memory usage: 7.3+ KB\n"
     ]
    }
   ],
   "source": [
    "df['Average Price'] = df['Average Price'].str.replace(',', '')\n",
    "df.info()"
   ]
  },
  {
   "cell_type": "code",
   "execution_count": 105,
   "id": "0ed9f0d0",
   "metadata": {},
   "outputs": [
    {
     "name": "stdout",
     "output_type": "stream",
     "text": [
      "<class 'pandas.core.frame.DataFrame'>\n",
      "RangeIndex: 132 entries, 0 to 131\n",
      "Data columns (total 7 columns):\n",
      " #   Column            Non-Null Count  Dtype  \n",
      "---  ------            --------------  -----  \n",
      " 0   Date              132 non-null    object \n",
      " 1   Sales             132 non-null    int64  \n",
      " 2   Dollar Volume     132 non-null    object \n",
      " 3   Average Price     132 non-null    float64\n",
      " 4   Median Price      132 non-null    object \n",
      " 5   Total Listings    84 non-null     float64\n",
      " 6   Months Inventory  84 non-null     float64\n",
      "dtypes: float64(3), int64(1), object(3)\n",
      "memory usage: 7.3+ KB\n"
     ]
    }
   ],
   "source": [
    "df['Average Price'] = df['Average Price'].astype('float')\n",
    "df.info()"
   ]
  },
  {
   "cell_type": "code",
   "execution_count": 106,
   "id": "569c703f",
   "metadata": {},
   "outputs": [
    {
     "data": {
      "text/plain": [
       "<AxesSubplot:>"
      ]
     },
     "execution_count": 106,
     "metadata": {},
     "output_type": "execute_result"
    },
    {
     "data": {
      "image/png": "[encoded data removed]",
      "text/plain": [
       "<Figure size 432x288 with 1 Axes>"
      ]
     },
     "metadata": {
      "needs_background": "light"
     },
     "output_type": "display_data"
    }
   ],
   "source": [
    "df['Average Price'].plot()"
   ]
  },
  {
   "cell_type": "code",
   "execution_count": null,
   "id": "6f7d0380",
   "metadata": {},
   "outputs": [],
   "source": []
  }
 ],
 "metadata": {
  "kernelspec": {
   "display_name": "Python 3 (ipykernel)",
   "language": "python",
   "name": "python3"
  },
  "language_info": {
   "codemirror_mode": {
    "name": "ipython",
    "version": 3
   },
   "file_extension": ".py",
   "mimetype": "text/x-python",
   "name": "python",
   "nbconvert_exporter": "python",
   "pygments_lexer": "ipython3",
   "version": "3.8.12"
  }
 },
 "nbformat": 4,
 "nbformat_minor": 5
}
